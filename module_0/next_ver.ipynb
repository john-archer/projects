{
 "cells": [
  {
   "cell_type": "markdown",
   "metadata": {
    "colab_type": "text",
    "id": "T9xk-h43_6fH"
   },
   "source": [
    "# Угадай число от 1 до 100\n",
    "## Проект в SkillFactory, модуль 0\n",
    "\n",
    "Суть игры: случайно выбираем число от 1 до 100. Хотим его найти за возможно меньшее количество попыток."
   ]
  },
  {
   "cell_type": "code",
   "execution_count": 0,
   "metadata": {
    "colab": {},
    "colab_type": "code",
    "id": "qXu9lcUZ_6fI"
   },
   "outputs": [],
   "source": [
    "import numpy as np"
   ]
  },
  {
   "cell_type": "code",
   "execution_count": 1,
   "metadata": {
    "colab": {},
    "colab_type": "code",
    "id": "HRtFirna_6fM"
   },
   "outputs": [
    {
     "ename": "SyntaxError",
     "evalue": "invalid syntax (<ipython-input-1-6d4cecc7ea22>, line 14)",
     "output_type": "error",
     "traceback": [
      "\u001b[1;36m  File \u001b[1;32m\"<ipython-input-1-6d4cecc7ea22>\"\u001b[1;36m, line \u001b[1;32m14\u001b[0m\n\u001b[1;33m    else number < predict: print (f\"Выбранное меньше {predict} \")\u001b[0m\n\u001b[1;37m              ^\u001b[0m\n\u001b[1;31mSyntaxError\u001b[0m\u001b[1;31m:\u001b[0m invalid syntax\n"
     ]
    }
   ],
   "source": [
    "'''Наивный перебор'''\n",
    "\n",
    "import numpy as np\n",
    "\n",
    "count = 0                          # счетчик попыток\n",
    "number = np.random.randint(1,101)  # случайное число в интервале [1,100]\n",
    "print (\"Выбрано число от 1 до 100 (включительно)\")\n",
    "\n",
    "while True:                        # бесконечный цикл\n",
    "    predict = int(input('Введите число'))         # ввод числа с клавиатуры\n",
    "    count += 1                     # увеличиваем счетчик\n",
    "    if number == predict: break    # Нашли!\n",
    "    elif number > predict: print (f\"Выбранное число > {predict} \")\n",
    "    else number < predict: print (f\"Выбранное меньше {predict} \")\n",
    "        \n",
    "print (f\"Число {number} найдено за {count} попыток.\")"
   ]
  },
  {
   "cell_type": "code",
   "execution_count": 0,
   "metadata": {
    "colab": {},
    "colab_type": "code",
    "id": "qlJd5BG6_6fQ"
   },
   "outputs": [],
   "source": [
    "'''Алгоритм SkillFactory: перебор значений от 1 до найденного. Алгоритм запускается 1000 раз,\n",
    "    чтобы вычислить среднее число попыток.'''\n",
    "\n",
    "def game(number):\n",
    "    '''Просто угадываем перебором никак не используя информацию о больше или меньше.\n",
    "       Функция Принимает загаданное число и возвращает число попыток'''\n",
    "    count = 0\n",
    "    while True:\n",
    "        count+=1\n",
    "        if number == count: \n",
    "            return(count) # нашли!  \n",
    "\n",
    "\n",
    "def score_game(game):\n",
    "    '''Запускаем игру 1000 раз, чтоб узнать как быстро игра угадывает число'''\n",
    "    count_ls = []\n",
    "    np.random.seed(1)  # фиксируем RANDOM SEED, чтобы ваш эксперимент был воспроизводим!\n",
    "    random_array = np.random.randint(1, 100, size=(1000))       #заменен (1, 100, size=(1000)) для избежания бесконечного цикла\n",
    "    for number in random_array:\n",
    "        count_ls.append(game(number)) # записываем попытки\n",
    "    score = int(np.mean(count_ls))\n",
    "    print(f\"Ваш алгоритм угадывает число в среднем за {score} попыток\")\n",
    "    return(score)"
   ]
  },
  {
   "cell_type": "code",
   "execution_count": 0,
   "metadata": {
    "colab": {},
    "colab_type": "code",
    "id": "vHhyNng5_6fT",
    "outputId": "08173fc5-a179-4f32-a43b-9df2aee4d45a"
   },
   "outputs": [
    {
     "name": "stdout",
     "output_type": "stream",
     "text": [
      "Ваш алгоритм угадывает число в среднем за 49 попыток\n"
     ]
    },
    {
     "data": {
      "text/plain": [
       "49"
      ]
     },
     "execution_count": 7,
     "metadata": {
      "tags": []
     },
     "output_type": "execute_result"
    }
   ],
   "source": [
    "score_game(game_core_v1)"
   ]
  },
  {
   "cell_type": "code",
   "execution_count": 0,
   "metadata": {
    "colab": {},
    "colab_type": "code",
    "id": "QPCZWvjN_6fX"
   },
   "outputs": [],
   "source": [
    "'''Модификация функции поиска.'''\n",
    "\n",
    "def game_core_v2(number):\n",
    "    '''Устанавливаем любое (случайное) число, а потом уменьшаем или увеличиваем его в зависимости от того, больше оно или меньше нужного.\n",
    "       Функция принимает загаданное число и возвращает число попыток'''\n",
    "    count = 0\n",
    "    predict = np.random.randint(100)\n",
    "    while number != predict:\n",
    "        count+=1\n",
    "        if number > predict: \n",
    "            predict += 1\n",
    "        elif number < predict: \n",
    "            predict -= 1\n",
    "    return(count) # выход из цикла, если угадали\n"
   ]
  },
  {
   "cell_type": "code",
   "execution_count": 0,
   "metadata": {
    "colab": {},
    "colab_type": "code",
    "id": "xebACsuQ_6fb",
    "outputId": "1fc85c7c-8ab8-41a1-bf18-92d45a4a0f74"
   },
   "outputs": [
    {
     "name": "stdout",
     "output_type": "stream",
     "text": [
      "Ваш алгоритм угадывает число в среднем за 33 попыток\n"
     ]
    },
    {
     "data": {
      "text/plain": [
       "33"
      ]
     },
     "execution_count": 9,
     "metadata": {
      "tags": []
     },
     "output_type": "execute_result"
    }
   ],
   "source": [
    "score_game(game_core_v2)"
   ]
  },
  {
   "cell_type": "code",
   "execution_count": 0,
   "metadata": {
    "colab": {},
    "colab_type": "code",
    "id": "qX_eU131_6fe"
   },
   "outputs": [],
   "source": [
    "'''Свой способ - та же логика что при ручном переборе'''\n",
    "\n",
    "def game_core_v3(number):\n",
    "    count = 0\n",
    "    low = 1\n",
    "    high = 100\n",
    "    while True:\n",
    "        predict = np.random.randint(low,high)     # [нижнее;верхнее)\n",
    "        count += 1\n",
    "        if number == predict:\n",
    "            break\n",
    "        elif number > predict:   # если число > предсказанного\n",
    "            low = predict + 1    # установи его как нижний предел + 1\n",
    "        else:                    # в противном случае ( number < predict ),\n",
    "            high = predict       # установи задуманное число в качестве максимума\n",
    "    return count"
   ]
  },
  {
   "cell_type": "code",
   "execution_count": 0,
   "metadata": {
    "colab": {},
    "colab_type": "code",
    "id": "S3_shXY0_6fh",
    "outputId": "f1305da3-b4a1-4689-8681-7f7d59f8ac00"
   },
   "outputs": [
    {
     "name": "stdout",
     "output_type": "stream",
     "text": [
      "Ваш алгоритм угадывает число в среднем за 7 попыток\n"
     ]
    },
    {
     "data": {
      "text/plain": [
       "7"
      ]
     },
     "execution_count": 13,
     "metadata": {
      "tags": []
     },
     "output_type": "execute_result"
    }
   ],
   "source": [
    "score_game(game_core_v3)"
   ]
  },
  {
   "cell_type": "code",
   "execution_count": 0,
   "metadata": {
    "colab": {},
    "colab_type": "code",
    "id": "MHvp1jm1_6fl"
   },
   "outputs": [],
   "source": []
  }
 ],
 "metadata": {
  "colab": {
   "name": "mpy.ipynb",
   "provenance": []
  },
  "kernelspec": {
   "display_name": "Python 3",
   "language": "python",
   "name": "python3"
  },
  "language_info": {
   "codemirror_mode": {
    "name": "ipython",
    "version": 3
   },
   "file_extension": ".py",
   "mimetype": "text/x-python",
   "name": "python",
   "nbconvert_exporter": "python",
   "pygments_lexer": "ipython3",
   "version": "3.7.6"
  }
 },
 "nbformat": 4,
 "nbformat_minor": 1
}
