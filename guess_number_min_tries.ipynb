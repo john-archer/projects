{
  "nbformat": 4,
  "nbformat_minor": 0,
  "metadata": {
    "kernelspec": {
      "display_name": "Python 3",
      "language": "python",
      "name": "python3"
    },
    "language_info": {
      "codemirror_mode": {
        "name": "ipython",
        "version": 3
      },
      "file_extension": ".py",
      "mimetype": "text/x-python",
      "name": "python",
      "nbconvert_exporter": "python",
      "pygments_lexer": "ipython3",
      "version": "3.7.6"
    },
    "colab": {
      "name": "mpy.ipynb",
      "provenance": [],
      "include_colab_link": true
    }
  },
  "cells": [
    {
      "cell_type": "markdown",
      "metadata": {
        "id": "view-in-github",
        "colab_type": "text"
      },
      "source": [
        "<a href=\"https://colab.research.google.com/github/john-archer/projects/blob/master/guess_number_min_tries.ipynb\" target=\"_parent\"><img src=\"https://colab.research.google.com/assets/colab-badge.svg\" alt=\"Open In Colab\"/></a>"
      ]
    },
    {
      "cell_type": "markdown",
      "metadata": {
        "id": "T9xk-h43_6fH",
        "colab_type": "text"
      },
      "source": [
        "# Угадай число от 1 до 100\n",
        "## Проект в SkillFactory, модуль 0\n",
        "\n",
        "Суть игры: случайно выбираем число от 1 до 100. С помощью необходимо его  с помощью скрипта за возможно меньшее количество попыток."
      ]
    },
    {
      "cell_type": "code",
      "metadata": {
        "id": "qXu9lcUZ_6fI",
        "colab_type": "code",
        "colab": {}
      },
      "source": [
        "import numpy as np"
      ],
      "execution_count": 0,
      "outputs": []
    },
    {
      "cell_type": "code",
      "metadata": {
        "id": "HRtFirna_6fM",
        "colab_type": "code",
        "colab": {}
      },
      "source": [
        "'''Игра вручную'''\n",
        "\n",
        "import numpy as np\n",
        "\n",
        "count = 0                          # счетчик попыток\n",
        "number = np.random.randint(1,100)  # случайное число в интервале [1,100]\n",
        "print (\"Загадано число от 1 до 99\")\n",
        "\n",
        "while True:                        # бесконечный цикл\n",
        "    predict = int(input())         # попытка\n",
        "    count += 1                     # \n",
        "    if number == predict: break    # выход из цикла, если угадали\n",
        "    elif number > predict: print (f\"Угадываемое число больше {predict} \")\n",
        "    elif number < predict: print (f\"Угадываемое число меньше {predict} \")\n",
        "        \n",
        "print (f\"Вы угадали число {number} за {count} попыток.\")"
      ],
      "execution_count": 0,
      "outputs": []
    },
    {
      "cell_type": "code",
      "metadata": {
        "id": "qlJd5BG6_6fQ",
        "colab_type": "code",
        "colab": {}
      },
      "source": [
        "'''Исходный алгоритм, предложенный SkillFactory - перебор всех значений от 1 по порядку. Алгоритм запускается 1000 раз,\n",
        "    чтобы вычислить среднее число попыток.'''\n",
        "\n",
        "def game_core_v1(number):\n",
        "    '''Просто угадываем перебором никак не используя информацию о больше или меньше.\n",
        "       Функция Принимает загаданное число и возвращает число попыток'''\n",
        "    count = 0\n",
        "    while True:\n",
        "        count+=1\n",
        "        if number == count: \n",
        "            return(count) # выход из цикла, если угадали  \n",
        "\n",
        "\n",
        "def score_game(game_core_v1):\n",
        "    '''Запускаем игру 1000 раз, чтоб узнать как быстро игра угадывает число'''\n",
        "    count_ls = []\n",
        "    np.random.seed(1)  # фиксируем RANDOM SEED, чтобы ваш эксперимент был воспроизводим!\n",
        "    random_array = np.random.randint(1, 100, size=(1000))       #поправлено мной на интервал (1, 100, size=(1000)) для избежания бесконечного цикла\n",
        "    for number in random_array:\n",
        "        count_ls.append(game_core_v1(number))\n",
        "    score = int(np.mean(count_ls))\n",
        "    print(f\"Ваш алгоритм угадывает число в среднем за {score} попыток\")\n",
        "    return(score)"
      ],
      "execution_count": 0,
      "outputs": []
    },
    {
      "cell_type": "code",
      "metadata": {
        "id": "vHhyNng5_6fT",
        "colab_type": "code",
        "colab": {},
        "outputId": "08173fc5-a179-4f32-a43b-9df2aee4d45a"
      },
      "source": [
        "score_game(game_core_v1)"
      ],
      "execution_count": 0,
      "outputs": [
        {
          "output_type": "stream",
          "text": [
            "Ваш алгоритм угадывает число в среднем за 49 попыток\n"
          ],
          "name": "stdout"
        },
        {
          "output_type": "execute_result",
          "data": {
            "text/plain": [
              "49"
            ]
          },
          "metadata": {
            "tags": []
          },
          "execution_count": 7
        }
      ]
    },
    {
      "cell_type": "code",
      "metadata": {
        "id": "QPCZWvjN_6fX",
        "colab_type": "code",
        "colab": {}
      },
      "source": [
        "'''Модификация функции поиска.'''\n",
        "\n",
        "def game_core_v2(number):\n",
        "    '''Устанавливаем любое (случайное) число, а потом уменьшаем или увеличиваем его в зависимости от того, больше оно или меньше нужного.\n",
        "       Функция принимает загаданное число и возвращает число попыток'''\n",
        "    count = 0\n",
        "    predict = np.random.randint(100)\n",
        "    while number != predict:\n",
        "        count+=1\n",
        "        if number > predict: \n",
        "            predict += 1\n",
        "        elif number < predict: \n",
        "            predict -= 1\n",
        "    return(count) # выход из цикла, если угадали\n"
      ],
      "execution_count": 0,
      "outputs": []
    },
    {
      "cell_type": "code",
      "metadata": {
        "id": "xebACsuQ_6fb",
        "colab_type": "code",
        "colab": {},
        "outputId": "1fc85c7c-8ab8-41a1-bf18-92d45a4a0f74"
      },
      "source": [
        "score_game(game_core_v2)"
      ],
      "execution_count": 0,
      "outputs": [
        {
          "output_type": "stream",
          "text": [
            "Ваш алгоритм угадывает число в среднем за 33 попыток\n"
          ],
          "name": "stdout"
        },
        {
          "output_type": "execute_result",
          "data": {
            "text/plain": [
              "33"
            ]
          },
          "metadata": {
            "tags": []
          },
          "execution_count": 9
        }
      ]
    },
    {
      "cell_type": "code",
      "metadata": {
        "id": "qX_eU131_6fe",
        "colab_type": "code",
        "colab": {}
      },
      "source": [
        "'''Свой способ - та же логика что при ручном переборе'''\n",
        "\n",
        "def game_core_v3(number):\n",
        "    count = 0\n",
        "    low = 1\n",
        "    high = 100\n",
        "    while True:\n",
        "        predict = np.random.randint(low,high)     # [нижнее;верхнее)\n",
        "        count += 1\n",
        "        if number == predict:\n",
        "            break\n",
        "        elif number > predict:   # если число > предсказанного\n",
        "            low = predict + 1    # установи его как нижний предел + 1\n",
        "        elif number < predict:   # в противном случае,\n",
        "            high = predict       # установи задуманное число в качестве максимума\n",
        "    return count"
      ],
      "execution_count": 0,
      "outputs": []
    },
    {
      "cell_type": "code",
      "metadata": {
        "id": "S3_shXY0_6fh",
        "colab_type": "code",
        "colab": {},
        "outputId": "f1305da3-b4a1-4689-8681-7f7d59f8ac00"
      },
      "source": [
        "score_game(game_core_v3)"
      ],
      "execution_count": 0,
      "outputs": [
        {
          "output_type": "stream",
          "text": [
            "Ваш алгоритм угадывает число в среднем за 7 попыток\n"
          ],
          "name": "stdout"
        },
        {
          "output_type": "execute_result",
          "data": {
            "text/plain": [
              "7"
            ]
          },
          "metadata": {
            "tags": []
          },
          "execution_count": 13
        }
      ]
    },
    {
      "cell_type": "code",
      "metadata": {
        "id": "MHvp1jm1_6fl",
        "colab_type": "code",
        "colab": {}
      },
      "source": [
        ""
      ],
      "execution_count": 0,
      "outputs": []
    }
  ]
}