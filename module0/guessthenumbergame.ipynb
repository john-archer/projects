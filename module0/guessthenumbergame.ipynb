{
  "nbformat": 4,
  "nbformat_minor": 0,
  "metadata": {
    "colab": {
      "name": "guessthenumbergame.ipynb",
      "provenance": [],
      "collapsed_sections": [],
      "include_colab_link": true
    },
    "kernelspec": {
      "display_name": "Python 3",
      "language": "python",
      "name": "python3"
    },
    "language_info": {
      "codemirror_mode": {
        "name": "ipython",
        "version": 3
      },
      "file_extension": ".py",
      "mimetype": "text/x-python",
      "name": "python",
      "nbconvert_exporter": "python",
      "pygments_lexer": "ipython3",
      "version": "3.7.6"
    }
  },
  "cells": [
    {
      "cell_type": "markdown",
      "metadata": {
        "id": "view-in-github",
        "colab_type": "text"
      },
      "source": [
        "<a href=\"https://colab.research.google.com/github/john-archer/projects/blob/master/module0/guessthenumbergame.ipynb\" target=\"_parent\"><img src=\"https://colab.research.google.com/assets/colab-badge.svg\" alt=\"Open In Colab\"/></a>"
      ]
    },
    {
      "cell_type": "markdown",
      "metadata": {
        "colab_type": "text",
        "id": "T9xk-h43_6fH"
      },
      "source": [
        "# Угадай число от 1 до 100\n",
        "## Проект в SkillFactory, модуль 0\n",
        "\n",
        "Суть игры: случайно выбираем число от 1 до 100. Пишем несколько вариантов функции поиска. Для сравнения функций поиска между собой написали функцию оценки, которая по одинаковому алгоритму оценивает количество попыток (в среднем), которое нужно функции поиска для \"угадывания\" выбранного числа.\n",
        "\n",
        "Цель: добиться возможно меньшего количества попыток"
      ]
    },
    {
      "cell_type": "code",
      "metadata": {
        "colab_type": "code",
        "id": "HRtFirna_6fM",
        "outputId": "e9ca6751-0386-4bb6-d687-a0153875ebfb",
        "colab": {
          "base_uri": "https://localhost:8080/",
          "height": 34
        }
      },
      "source": [
        "'''\n",
        "Наивный перебор с клавиатуры не стал пробовать\n",
        "Ведь вводить число вручную быстро наскучит,\n",
        "во-первых, потому, что нужно записывать числа, \n",
        "которые уже были использованы,\n",
        "а во-вторых, если не думать,  \n",
        "то будет много затрат усилий, но мало результатов\n",
        "'''\n",
        "\n",
        "import numpy as np\n",
        "\n",
        "count = 0                          # счетчик попыток\n",
        "n = np.random.randint(1,101)  # случайное число в интервале [1,100]\n",
        "print (\"Выбрано число от 1 до 100 (включительно)\")\n"
      ],
      "execution_count": 1,
      "outputs": [
        {
          "output_type": "stream",
          "text": [
            "Выбрано число от 1 до 100 (включительно)\n"
          ],
          "name": "stdout"
        }
      ]
    },
    {
      "cell_type": "code",
      "metadata": {
        "id": "U22Hr5-IdJhM",
        "colab_type": "code",
        "colab": {}
      },
      "source": [
        "'''\n",
        "Функция scoring \n",
        "Вход: реализация розыгрыша (поиска)\n",
        "Выход: \"среднее\" количество розыгрышей \n",
        "Алгоритм: \n",
        "  Запускает игру (game) в цикле 1000 раз,\n",
        "  Возвращает число попыток, использованных для поиска числа\n",
        "'''\n",
        "\n",
        "def scoring(game):\n",
        "  counts = []\n",
        "# используем одну и ту же последовательность случайных чисел\n",
        "  np.random.seed(5)\n",
        "#размер выборки фиксирован, чтобы программа не слишком долго работала\n",
        "  pseudorandom_array = np.random.randint(1, 101, size=(10000))\n",
        "  for n in pseudorandom_array:\n",
        "    counts.append(game(n)) # записываем попытки\n",
        "  score = int(np.mean(counts))\n",
        "  print(\"Ваш алгоритм угадывает число в среднем за \" + str(score) + \" попыток\")\n",
        "  return(score)"
      ],
      "execution_count": 0,
      "outputs": []
    },
    {
      "cell_type": "code",
      "metadata": {
        "id": "1Yb9HKFsbwKr",
        "colab_type": "code",
        "colab": {}
      },
      "source": [
        "'''\n",
        "Функция game0\n",
        "Вход: заданное число\n",
        "Выход: количество попыток\n",
        "Алгоритм: случайный перебор\n",
        "'''\n",
        "def game0(n):\n",
        "  bets = []\n",
        "  count = 0\n",
        "  while True:                                 # угадаешь или надоест?\n",
        "    count += 1                                # тик-так\n",
        "    bet = np.random.randint(1,101)            # вместо ввода с клавиатуры\n",
        "    if bet in bets:                           # если уже выпадало\n",
        "      continue                                # следующий ход\n",
        "    bets.append(bet)\n",
        "    if n == bet: \n",
        "      break                                   # УРА!\n",
        "  return(count)"
      ],
      "execution_count": 0,
      "outputs": []
    },
    {
      "cell_type": "code",
      "metadata": {
        "id": "yKFprCEKgu_d",
        "colab_type": "code",
        "outputId": "e45af223-c138-4d19-d13a-57aec1018ef8",
        "colab": {
          "base_uri": "https://localhost:8080/",
          "height": 50
        }
      },
      "source": [
        "scoring(game0)"
      ],
      "execution_count": 26,
      "outputs": [
        {
          "output_type": "stream",
          "text": [
            "Ваш алгоритм угадывает число в среднем за 101 попыток\n"
          ],
          "name": "stdout"
        },
        {
          "output_type": "execute_result",
          "data": {
            "text/plain": [
              "101"
            ]
          },
          "metadata": {
            "tags": []
          },
          "execution_count": 26
        }
      ]
    },
    {
      "cell_type": "code",
      "metadata": {
        "colab_type": "code",
        "id": "qlJd5BG6_6fQ",
        "colab": {}
      },
      "source": [
        "\n",
        "'''\n",
        "Функция gamesf\n",
        "Вход: заданное число\n",
        "Выход: количество розыгрышей\n",
        "Алгоритм: предложенный SkillFactory простой перебор значений от 1 до заданного\n",
        "'''\n",
        "def gamesf(n):\n",
        "  count = 0\n",
        "  while True:\n",
        "    count+=1\n",
        "    if n == count: \n",
        "      return(count) # нашли!  \n"
      ],
      "execution_count": 0,
      "outputs": []
    },
    {
      "cell_type": "code",
      "metadata": {
        "colab_type": "code",
        "id": "vHhyNng5_6fT",
        "outputId": "4594078c-adbe-49d4-e696-9e819d31973d",
        "colab": {
          "base_uri": "https://localhost:8080/",
          "height": 50
        }
      },
      "source": [
        "scoring(gamesf)"
      ],
      "execution_count": 27,
      "outputs": [
        {
          "output_type": "stream",
          "text": [
            "Ваш алгоритм угадывает число в среднем за 50 попыток\n"
          ],
          "name": "stdout"
        },
        {
          "output_type": "execute_result",
          "data": {
            "text/plain": [
              "50"
            ]
          },
          "metadata": {
            "tags": []
          },
          "execution_count": 27
        }
      ]
    },
    {
      "cell_type": "code",
      "metadata": {
        "colab_type": "code",
        "id": "QPCZWvjN_6fX",
        "colab": {}
      },
      "source": [
        "'''\n",
        "Функция gameplusminus\n",
        "Вход: заданное число\n",
        "Выход: количество попыток\n",
        "Алгоритм: \n",
        "          1. Выбираем случайное число bet из интервала [1,100]\n",
        "          2. Увеличиваем число bet, если заданное больше него\n",
        "          3. Уменьшаем в противном случае\n",
        "'''\n",
        "def gamepm(number):\n",
        "  count = 0\n",
        "  bet = np.random.randint(1,101)\n",
        "  while number != bet:\n",
        "    count+=1              # инкремент счетчика\n",
        "    if number > bet:   \n",
        "      bet += 1\n",
        "    elif number < bet: \n",
        "      bet -= 1\n",
        "    else:\n",
        "      break     # number == bet -- тут можно было потерять лишнюю итерацию\n",
        "  return(count) "
      ],
      "execution_count": 0,
      "outputs": []
    },
    {
      "cell_type": "code",
      "metadata": {
        "colab_type": "code",
        "id": "xebACsuQ_6fb",
        "outputId": "a1056fe2-d76f-4830-feaa-da4f8c3bf3a0",
        "colab": {
          "base_uri": "https://localhost:8080/",
          "height": 50
        }
      },
      "source": [
        "scoring(gamepm)"
      ],
      "execution_count": 29,
      "outputs": [
        {
          "output_type": "stream",
          "text": [
            "Ваш алгоритм угадывает число в среднем за 33 попыток\n"
          ],
          "name": "stdout"
        },
        {
          "output_type": "execute_result",
          "data": {
            "text/plain": [
              "33"
            ]
          },
          "metadata": {
            "tags": []
          },
          "execution_count": 29
        }
      ]
    },
    {
      "cell_type": "code",
      "metadata": {
        "colab_type": "code",
        "id": "qX_eU131_6fe",
        "colab": {}
      },
      "source": [
        "'''\n",
        "Функция gamebetter\n",
        "Вход: заданное число\n",
        "Выход: количество попыток\n",
        "Алгоритм: \n",
        "          1. Задаем верхнюю и нижнюю границы интервала поиска\n",
        "          1. Выбираем случайное число bet из интервала [верх,низ] (а не 1-100, как раньше)\n",
        "          2. Если искомое число больше bet, то нижняя граница интервала больше bet на 1 \n",
        "          3. В противном случае, верхнюю границу полагаем равной bet\n",
        "'''\n",
        "\n",
        "def gamebetter(n):\n",
        "  count = 0\n",
        "  l = 1\n",
        "  h = 101\n",
        "  while True:\n",
        "    bet = np.random.randint(l,h)     # [нижнее;верхнее)\n",
        "    count += 1\n",
        "    if n==bet:\n",
        "      break\n",
        "    elif n > bet:   # если число > предсказанного\n",
        "      l = bet + 1   # установи его как нижний предел + 1\n",
        "    else:           # в противном случае ( number < bet ),\n",
        "      h = bet       # установи задуманное число в качестве максимума\n",
        "  return count"
      ],
      "execution_count": 0,
      "outputs": []
    },
    {
      "cell_type": "code",
      "metadata": {
        "colab_type": "code",
        "id": "S3_shXY0_6fh",
        "outputId": "a1a4ff6d-74a0-48ee-c412-a7011d45b5b6",
        "colab": {
          "base_uri": "https://localhost:8080/",
          "height": 50
        }
      },
      "source": [
        "scoring(gamebetter)"
      ],
      "execution_count": 30,
      "outputs": [
        {
          "output_type": "stream",
          "text": [
            "Ваш алгоритм угадывает число в среднем за 7 попыток\n"
          ],
          "name": "stdout"
        },
        {
          "output_type": "execute_result",
          "data": {
            "text/plain": [
              "7"
            ]
          },
          "metadata": {
            "tags": []
          },
          "execution_count": 30
        }
      ]
    },
    {
      "cell_type": "code",
      "metadata": {
        "colab_type": "code",
        "id": "MHvp1jm1_6fl",
        "colab": {}
      },
      "source": [
        ""
      ],
      "execution_count": 0,
      "outputs": []
    }
  ]
}